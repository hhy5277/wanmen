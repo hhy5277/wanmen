{
 "cells": [
  {
   "cell_type": "code",
   "execution_count": 3,
   "metadata": {
    "collapsed": false
   },
   "outputs": [
    {
     "name": "stdout",
     "output_type": "stream",
     "text": [
      "A+B= [5 5 3]\n",
      "A-B= [-3 -1  3]\n"
     ]
    }
   ],
   "source": [
    "import numpy as np\n",
    "A = np.array([1,2,3])\n",
    "B = np.array([4,3,0])\n",
    "print('A+B=',np.add(A,B))\n",
    "print('A-B=',np.subtract(A,B))\n"
   ]
  },
  {
   "cell_type": "code",
   "execution_count": 15,
   "metadata": {
    "collapsed": false
   },
   "outputs": [
    {
     "name": "stdout",
     "output_type": "stream",
     "text": [
      "np.dot(C,D)= [[18 11 16 16]\n",
      " [ 9  6 12 12]]\n",
      "np.matmul(C,D)= [[18 11 16 16]\n",
      " [ 9  6 12 12]]\n",
      "C@D= [[18 11 16 16]\n",
      " [ 9  6 12 12]]\n",
      "np.multiply(D,D)= [[16  9 81 81]\n",
      " [ 1  1  4  4]\n",
      " [16  4  1  1]]\n",
      "D*D= [[16  9 81 81]\n",
      " [ 1  1  4  4]\n",
      " [16  4  1  1]]\n"
     ]
    },
    {
     "data": {
      "text/plain": [
       "(3, 4)"
      ]
     },
     "execution_count": 15,
     "metadata": {},
     "output_type": "execute_result"
    }
   ],
   "source": [
    "C = np.array([[1,2,3],\n",
    "             [1,1,1]])\n",
    "D = np.array([[4,3,9,9],\n",
    "            [1,1,2,2],\n",
    "            [4,2,1,1]])\n",
    "#矩阵相乘\n",
    "print('np.dot(C,D)=',np.dot(C,D))\n",
    "print('np.matmul(C,D)=',np.matmul(C,D))\n",
    "print('C@D=',C@D)\n",
    "\n",
    "#元素与元素相乘\n",
    "print('np.multiply(D,D)=',np.multiply(D,D))\n",
    "print('D*D=',D*D)\n",
    "\n",
    "C.shape\n",
    "\n",
    "D.shape"
   ]
  },
  {
   "cell_type": "code",
   "execution_count": null,
   "metadata": {
    "collapsed": true
   },
   "outputs": [],
   "source": []
  }
 ],
 "metadata": {
  "anaconda-cloud": {},
  "kernelspec": {
   "display_name": "Python [default]",
   "language": "python",
   "name": "python3"
  },
  "language_info": {
   "codemirror_mode": {
    "name": "ipython",
    "version": 3
   },
   "file_extension": ".py",
   "mimetype": "text/x-python",
   "name": "python",
   "nbconvert_exporter": "python",
   "pygments_lexer": "ipython3",
   "version": "3.5.2"
  }
 },
 "nbformat": 4,
 "nbformat_minor": 1
}
